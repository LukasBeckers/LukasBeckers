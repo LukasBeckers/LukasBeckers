{
  "cells": [
    {
      "cell_type": "markdown",
      "metadata": {
        "id": "view-in-github",
        "colab_type": "text"
      },
      "source": [
        "<a href=\"https://colab.research.google.com/github/LukasBeckers/LukasBeckers/blob/main/OCM_dataset_download.ipynb\" target=\"_parent\"><img src=\"https://colab.research.google.com/assets/colab-badge.svg\" alt=\"Open In Colab\"/></a>"
      ]
    },
    {
      "cell_type": "markdown",
      "source": [
        "# Downloading the Dataset\n",
        "In this notebook i will download the \"OCM-Dataset\" and start to clean the data.\n"
      ],
      "metadata": {
        "id": "ZOkLnoOcw2jd"
      }
    },
    {
      "cell_type": "code",
      "execution_count": 2,
      "metadata": {
        "id": "kuUi1VaGwRVr"
      },
      "outputs": [],
      "source": [
        "import numpy as np\n",
        "import pandas as pd\n",
        "import os\n",
        "from sklearn.cluster import KMeans\n",
        "from sklearn.decomposition import PCA\n",
        "from sklearn.manifold import TSNE\n",
        "import matplotlib.pyplot as plt\n",
        "import pickle as pk\n",
        "import csv"
      ]
    },
    {
      "cell_type": "code",
      "source": [
        "# Connecting the notebook to your google-drive.\n",
        "\n",
        "from google.colab import drive\n",
        "drive.mount('/content/drive')"
      ],
      "metadata": {
        "colab": {
          "base_uri": "https://localhost:8080/"
        },
        "id": "-2mQcHQe7Ydj",
        "outputId": "b75827af-eb59-4eef-8280-bb19b7dbe14e"
      },
      "execution_count": 5,
      "outputs": [
        {
          "output_type": "stream",
          "name": "stdout",
          "text": [
            "Mounted at /content/drive\n"
          ]
        }
      ]
    },
    {
      "cell_type": "markdown",
      "metadata": {
        "id": "KUnfrvazwRVu"
      },
      "source": [
        "Downloading the OCM-dataset."
      ]
    },
    {
      "cell_type": "code",
      "execution_count": 3,
      "metadata": {
        "id": "93TKIVsDwRVw"
      },
      "outputs": [],
      "source": [
        "url_OCM = 'https://static-content.springer.com/esm/art%3A10.1038%2Fs41467-019-08325-8/MediaObjects/41467_2019_8325_MOESM3_ESM.xls'\n",
        "OCM_data_raw = pd.read_excel(url_OCM, sheet_name=1)"
      ]
    },
    {
      "cell_type": "markdown",
      "metadata": {
        "id": "crw4D_1xwRVy"
      },
      "source": [
        "Deviding dataset into subsets with cation/anion - elements as column-names"
      ]
    },
    {
      "cell_type": "code",
      "execution_count": 4,
      "metadata": {
        "id": "Mf9_DepuwRVy"
      },
      "outputs": [],
      "source": [
        "cation1 = OCM_data_raw.pivot(columns='Cation 1', values='Cation 1 mol%')\n",
        "cation2 = OCM_data_raw.pivot(columns='Cation 2', values='Cation 2 mol%')\n",
        "cation3 = OCM_data_raw.pivot(columns='Cation 3', values='Cation 3 mol%')\n",
        "cation4 = OCM_data_raw.pivot(columns='Cation 4', values='Cation 4 mol%')\n",
        "\n",
        "anion1 = OCM_data_raw.pivot(columns='Anion 1', values='Anion 1 mol%')\n",
        "anion2 = OCM_data_raw.pivot(columns='Anion 2', values='Anion 2 mol%')\n",
        "\n",
        "support1 = OCM_data_raw.pivot(columns='Support 1', values='Support 1 mol%')\n",
        "support2 = OCM_data_raw.pivot(columns='Support 2', values='Support 2 mol%')"
      ]
    },
    {
      "cell_type": "markdown",
      "metadata": {
        "id": "bz-78iQnwRVz"
      },
      "source": [
        "Combining the subsets and adding additional information, like the publication-number \"pub_nr\" or \"reaction data\".\n",
        "Saving the newly formed dataset to an excel-file.\n"
      ]
    },
    {
      "cell_type": "code",
      "execution_count": 14,
      "metadata": {
        "colab": {
          "base_uri": "https://localhost:8080/"
        },
        "id": "VunasNE_wRVz",
        "outputId": "e48bfffa-9959-4f12-a9bc-555955e1ca3c"
      },
      "outputs": [
        {
          "output_type": "stream",
          "name": "stdout",
          "text": [
            "mkdir: cannot create directory ‘/content/drive/MyDrive/Colab Notebooks/OCM_GAN’: File exists\n",
            "mkdir: cannot create directory ‘/content/drive/MyDrive/Colab Notebooks/OCM_GAN/dataset/’: File exists\n"
          ]
        }
      ],
      "source": [
        "# Creating the directory in which the dataset is saved.\n",
        "project_path = \"/content/drive/MyDrive/Colab Notebooks/OCM_GAN\"\n",
        "folder_path = \"/content/drive/MyDrive/Colab Notebooks/OCM_GAN/dataset/\"\n",
        "!mkdir \"/content/drive/MyDrive/Colab Notebooks/OCM_GAN\"         # If this doesn't work, create the folders by hand.\n",
        "!mkdir \"/content/drive/MyDrive/Colab Notebooks/OCM_GAN/dataset/\"\n",
        "\n",
        "subset_lists = [cation1, cation2, cation3, cation4, anion1, anion2, support1, support2]\n",
        "combined_subsets = pd.concat(subset_lists, axis=1, sort=True)\n",
        "comp = combined_subsets.groupby(level=0, axis=1).sum()/100\n",
        "\n",
        "# Extracting the publication numbers and reaction conditions.\n",
        "pub_nr = OCM_data_raw.iloc[:, 0]\n",
        "reaction_data = OCM_data_raw.iloc[:, 19:]\n",
        "OCM_data_new = pd.concat([pub_nr, comp, reaction_data], axis=1, sort=True)\n",
        "OCM_data_new = OCM_data_new.fillna(0)\n",
        "with open(f'{folder_path}OCM_data_new.csv', 'w') as f:\n",
        "    writer = csv.writer(f, delimiter=',')\n",
        "    writer.writerow(list(OCM_data_new.columns))\n",
        "    for row in OCM_data_new.values.tolist():\n",
        "        writer.writerow(row)\n"
      ]
    },
    {
      "cell_type": "code",
      "source": [],
      "metadata": {
        "id": "Bs4NkNRIHCRB"
      },
      "execution_count": null,
      "outputs": []
    }
  ],
  "metadata": {
    "kernelspec": {
      "display_name": "Python 3",
      "language": "python",
      "name": "python3"
    },
    "language_info": {
      "codemirror_mode": {
        "name": "ipython",
        "version": 3
      },
      "file_extension": ".py",
      "mimetype": "text/x-python",
      "name": "python",
      "nbconvert_exporter": "python",
      "pygments_lexer": "ipython3",
      "version": "3.8.5"
    },
    "colab": {
      "provenance": [],
      "include_colab_link": true
    }
  },
  "nbformat": 4,
  "nbformat_minor": 0
}